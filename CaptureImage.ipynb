import cv2
import time
import os
import uuid
import tensorflow as tf

number_images = 10
IMAGES_PATH = 'AIML-Project\AIML-Project\Dataset'

def captureImage(label):
    cap = cv2.VideoCapture(0)
    print('Images for {}', format(label))
    time.sleep(5)
    for imgNum in range(number_images):
        ret, frame = cap.read()
        if not ret:
            print("Failed to capture image")
            break
        imgName = os.path.join(IMAGES_PATH, label, label + '.' + '{}.jpg'.format(str(uuid.uuid1())))
        print(imgName)
        cv2.imwrite(imgName, frame)

        cv2.imshow('frame', frame)
        time.sleep(2)
        if cv2.waitKey(1) & 0xFF == ord('q'):
            break
    cap.release()


captureImage('mask')